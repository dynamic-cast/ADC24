{
 "cells": [
  {
   "cell_type": "code",
   "execution_count": null,
   "id": "64098597-7bcb-46fc-a999-3c9f5e5c213b",
   "metadata": {},
   "outputs": [],
   "source": [
    "### Part 1: embedding a trained generative AI model into a music app"
   ]
  },
  {
   "cell_type": "code",
   "execution_count": null,
   "id": "2763297b-99ec-43be-ba01-1a5074f7fef1",
   "metadata": {},
   "outputs": [],
   "source": [
    "import urllib.request"
   ]
  },
  {
   "cell_type": "code",
   "execution_count": null,
   "id": "df262800-fe10-4e6a-9fe3-b15aad321df1",
   "metadata": {},
   "outputs": [],
   "source": [
    "urllib.request.urlretrieve(\"https://play.forum.ircam.fr/rave-vst-api/get_model/darbouka_onnx\", \"darbouka_onnx.ts\")"
   ]
  },
  {
   "cell_type": "code",
   "execution_count": null,
   "id": "7c9484a3-5fe1-4601-98af-19910757550b",
   "metadata": {},
   "outputs": [],
   "source": [
    "from app.audio import create_audio_engine"
   ]
  },
  {
   "cell_type": "code",
   "execution_count": null,
   "id": "16b04a6a-9569-413b-ad53-b4305970a338",
   "metadata": {},
   "outputs": [],
   "source": [
    "audio_engine = create_audio_engine(\"test-loop.wav\", \"darbouka_onnx.ts\")"
   ]
  },
  {
   "cell_type": "code",
   "execution_count": null,
   "id": "49914dc7-65b8-45b6-a16e-39bd7686d82e",
   "metadata": {},
   "outputs": [],
   "source": [
    "audio_engine.start()"
   ]
  },
  {
   "cell_type": "code",
   "execution_count": null,
   "id": "f7b66b61-b5da-4b2a-9085-3ce3ed711e2d",
   "metadata": {},
   "outputs": [],
   "source": [
    "audio_engine.loop.set()"
   ]
  },
  {
   "cell_type": "code",
   "execution_count": null,
   "id": "d891d4c1-2543-46e3-8c5d-b04ca45e3898",
   "metadata": {},
   "outputs": [],
   "source": [
    "audio_engine.transform.set()"
   ]
  },
  {
   "cell_type": "code",
   "execution_count": null,
   "id": "303fb456-019b-4916-a053-e354ad068e45",
   "metadata": {},
   "outputs": [],
   "source": [
    "audio_engine.set_latent_coordinates([0.1, 0.1, 0.5, 0.5])"
   ]
  },
  {
   "cell_type": "code",
   "execution_count": null,
   "id": "893f1fd8-229a-44bc-86c8-46d95de7f47a",
   "metadata": {},
   "outputs": [],
   "source": [
    "audio_engine.transform.clear()"
   ]
  },
  {
   "cell_type": "code",
   "execution_count": null,
   "id": "e65b792e-d2f6-4772-b0b3-1ba4106bb373",
   "metadata": {},
   "outputs": [],
   "source": [
    "audio_engine.stop.set()"
   ]
  },
  {
   "cell_type": "code",
   "execution_count": null,
   "id": "45f51975-188c-422e-8fae-e826d47d0dbf",
   "metadata": {},
   "outputs": [],
   "source": [
    "audio_engine.stop.clear()"
   ]
  }
 ],
 "metadata": {
  "kernelspec": {
   "display_name": "workshopenv",
   "language": "python",
   "name": "workshopenv"
  },
  "language_info": {
   "codemirror_mode": {
    "name": "ipython",
    "version": 3
   },
   "file_extension": ".py",
   "mimetype": "text/x-python",
   "name": "python",
   "nbconvert_exporter": "python",
   "pygments_lexer": "ipython3",
   "version": "3.12.0"
  }
 },
 "nbformat": 4,
 "nbformat_minor": 5
}
