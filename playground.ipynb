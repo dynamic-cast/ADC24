{
 "cells": [
  {
   "cell_type": "code",
   "execution_count": 1,
   "id": "7c9484a3-5fe1-4601-98af-19910757550b",
   "metadata": {},
   "outputs": [],
   "source": [
    "import app.audio.engine"
   ]
  },
  {
   "cell_type": "code",
   "execution_count": 2,
   "id": "0cf6d54a-8c0b-4bcc-a4e2-a55a1c17a975",
   "metadata": {},
   "outputs": [],
   "source": [
    "import app.audio"
   ]
  },
  {
   "cell_type": "code",
   "execution_count": 3,
   "id": "2763297b-99ec-43be-ba01-1a5074f7fef1",
   "metadata": {},
   "outputs": [],
   "source": [
    "import urllib.request"
   ]
  },
  {
   "cell_type": "code",
   "execution_count": 4,
   "id": "df262800-fe10-4e6a-9fe3-b15aad321df1",
   "metadata": {},
   "outputs": [
    {
     "data": {
      "text/plain": [
       "('darbouka_onnx.ts', <http.client.HTTPMessage at 0x12067a930>)"
      ]
     },
     "execution_count": 4,
     "metadata": {},
     "output_type": "execute_result"
    }
   ],
   "source": [
    "urllib.request.urlretrieve(\"https://play.forum.ircam.fr/rave-vst-api/get_model/darbouka_onnx\", \"darbouka_onnx.ts\")"
   ]
  },
  {
   "cell_type": "code",
   "execution_count": 5,
   "id": "16b04a6a-9569-413b-ad53-b4305970a338",
   "metadata": {},
   "outputs": [],
   "source": [
    "audio_engine = app.create_audio_engine(\"test-loop.wav\", \"darbouka_onnx.ts\")"
   ]
  },
  {
   "cell_type": "code",
   "execution_count": 6,
   "id": "d5bb8151-9235-49b6-b312-d034ed40d45e",
   "metadata": {},
   "outputs": [],
   "source": [
    "audio_engine.start()"
   ]
  },
  {
   "cell_type": "code",
   "execution_count": 7,
   "id": "f7b66b61-b5da-4b2a-9085-3ce3ed711e2d",
   "metadata": {},
   "outputs": [],
   "source": [
    "audio_engine.loop.set()"
   ]
  },
  {
   "cell_type": "code",
   "execution_count": 8,
   "id": "d891d4c1-2543-46e3-8c5d-b04ca45e3898",
   "metadata": {},
   "outputs": [],
   "source": [
    "audio_engine.transform.set()"
   ]
  },
  {
   "cell_type": "code",
   "execution_count": 9,
   "id": "303fb456-019b-4916-a053-e354ad068e45",
   "metadata": {},
   "outputs": [],
   "source": [
    "audio_engine.set_latent_coordinates([0.1, 0.1, 0.5, 0.5])"
   ]
  },
  {
   "cell_type": "code",
   "execution_count": 10,
   "id": "893f1fd8-229a-44bc-86c8-46d95de7f47a",
   "metadata": {},
   "outputs": [],
   "source": [
    "audio_engine.transform.clear()"
   ]
  },
  {
   "cell_type": "code",
   "execution_count": 11,
   "id": "e65b792e-d2f6-4772-b0b3-1ba4106bb373",
   "metadata": {},
   "outputs": [],
   "source": [
    "audio_engine.stop.set()"
   ]
  },
  {
   "cell_type": "code",
   "execution_count": 19,
   "id": "45f51975-188c-422e-8fae-e826d47d0dbf",
   "metadata": {},
   "outputs": [],
   "source": [
    "audio_engine.stop.clear()"
   ]
  },
  {
   "cell_type": "code",
   "execution_count": null,
   "id": "556731b4-2ff2-450a-a754-64596892821d",
   "metadata": {},
   "outputs": [],
   "source": []
  }
 ],
 "metadata": {
  "kernelspec": {
   "display_name": "workshopenv",
   "language": "python",
   "name": "workshopenv"
  },
  "language_info": {
   "codemirror_mode": {
    "name": "ipython",
    "version": 3
   },
   "file_extension": ".py",
   "mimetype": "text/x-python",
   "name": "python",
   "nbconvert_exporter": "python",
   "pygments_lexer": "ipython3",
   "version": "3.12.0"
  }
 },
 "nbformat": 4,
 "nbformat_minor": 5
}
